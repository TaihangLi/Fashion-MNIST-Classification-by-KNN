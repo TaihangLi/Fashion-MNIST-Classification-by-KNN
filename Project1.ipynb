{
 "cells": [
  {
   "cell_type": "code",
   "execution_count": 1,
   "metadata": {
    "id": "pb_dDlzNzarJ"
   },
   "outputs": [],
   "source": [
    "import pandas as pd\n",
    "import numpy as np\n",
    "import matplotlib.pyplot as plt\n",
    "from sklearn.model_selection import train_test_split\n",
    "from sklearn.model_selection import KFold\n",
    "from sklearn.neighbors import KNeighborsClassifier\n",
    "from sklearn.metrics import classification_report\n",
    "from sklearn import datasets\n",
    "from skimage import exposure"
   ]
  },
  {
   "cell_type": "markdown",
   "metadata": {
    "id": "nqtQ_NvvzarO"
   },
   "source": [
    "# **Part 2**"
   ]
  },
  {
   "cell_type": "code",
   "execution_count": 2,
   "metadata": {
    "id": "htZjH9OLzarQ",
    "tags": []
   },
   "outputs": [],
   "source": [
    "train = pd.read_csv(\"./fashion-mnist_train.csv\")\n",
    "test = pd.read_csv(\"./fashion-mnist_test.csv\")\n",
    "df=train.append(test)"
   ]
  },
  {
   "cell_type": "markdown",
   "metadata": {
    "id": "tIbO1CdezarR"
   },
   "source": [
    "## Divide Data according to labels"
   ]
  },
  {
   "cell_type": "code",
   "execution_count": 3,
   "metadata": {
    "id": "id3DczdnzarR"
   },
   "outputs": [],
   "source": [
    "label=[]\n",
    "for c in range (10):\n",
    "    classes=df.loc[df['label']==c]\n",
    "    label.append(classes)\n",
    "#for example label[1] is for all the samples with label=1"
   ]
  },
  {
   "cell_type": "markdown",
   "metadata": {
    "id": "X_ZB-URkzarR"
   },
   "source": [
    "## Select Different N"
   ]
  },
  {
   "cell_type": "code",
   "execution_count": 4,
   "metadata": {
    "id": "YsGGvFPxzarS",
    "outputId": "59e0e617-c5bf-4249-b1d8-b5647bf2a3bc"
   },
   "outputs": [
    {
     "name": "stdout",
     "output_type": "stream",
     "text": [
      "CPU times: user 4.35 ms, sys: 25.7 ms, total: 30 ms\n",
      "Wall time: 30.2 ms\n"
     ]
    }
   ],
   "source": [
    "%%time\n",
    "train=[]\n",
    "test=[]\n",
    "for j in range(3000,6001,500):\n",
    "    temp1=[]\n",
    "    temp2=[]\n",
    "    for i in range(10):\n",
    "        data=label[i]\n",
    "        temp1.append(data[:j])\n",
    "        temp2.append(data[j:])\n",
    "    train.append(temp1)\n",
    "    test.append(temp2)\n",
    "#divide each class into two sets for each N we choose\n",
    "#for example: train[0] is the training set for N=3000"
   ]
  },
  {
   "cell_type": "code",
   "execution_count": null,
   "metadata": {
    "id": "E44DZcqozarU",
    "outputId": "28cb3881-9e40-400d-a2e1-8594f7c5d8f2"
   },
   "outputs": [
    {
     "data": {
      "text/plain": [
       "array([3000, 3500, 4000, 4500, 5000, 5500, 6000])"
      ]
     },
     "execution_count": 71,
     "metadata": {},
     "output_type": "execute_result"
    }
   ],
   "source": [
    "np.arange(3000,6001,500)\n",
    "#there are 7 N we have chosen"
   ]
  },
  {
   "cell_type": "code",
   "execution_count": 7,
   "metadata": {
    "id": "7NZSQ7hgzarV"
   },
   "outputs": [],
   "source": [
    "for i in range(7):\n",
    "    test[i]=pd.concat(test[i])\n",
    "    train[i]=pd.concat(train[i])"
   ]
  },
  {
   "cell_type": "markdown",
   "metadata": {
    "id": "Ey-j9Z26zarW"
   },
   "source": [
    "## Use KNN as classifier"
   ]
  },
  {
   "cell_type": "code",
   "execution_count": null,
   "metadata": {
    "id": "qbaqMlMqzarW",
    "outputId": "cdc67e7a-2290-434f-fed0-0e3e0123e07c"
   },
   "outputs": [
    {
     "name": "stdout",
     "output_type": "stream",
     "text": [
      "N= 3000 mean accuracy= 0.83355\n",
      "N= 3500 mean accuracy= 0.8366285714285714\n",
      "N= 4000 mean accuracy= 0.8391\n",
      "N= 4500 mean accuracy= 0.84252\n",
      "N= 5000 mean accuracy= 0.84405\n",
      "N= 5500 mean accuracy= 0.8440666666666666\n",
      "N= 6000 mean accuracy= 0.8473\n",
      "CPU times: user 18min 50s, sys: 1min 56s, total: 20min 46s\n",
      "Wall time: 4min 19s\n"
     ]
    }
   ],
   "source": [
    "%%time\n",
    "N=[]\n",
    "accuracy=[]\n",
    "for i in range(7):\n",
    "    y_train = train[i]['label']\n",
    "    X_train = train[i].loc[:, train[i].columns != 'label']\n",
    "    \n",
    "    y_test = test[i]['label']\n",
    "    X_test = test[i].loc[:, test[i].columns != 'label']\n",
    "\n",
    "    knn = KNeighborsClassifier(n_neighbors=20)\n",
    "    knn.fit(X_train,y_train)\n",
    "    A=knn.score(X_test,y_test)\n",
    "    N.append(3000+500*i)\n",
    "    accuracy.append(A)\n",
    "    print('N=',3000+500*i ,'mean accuracy=', A)"
   ]
  },
  {
   "cell_type": "markdown",
   "metadata": {
    "id": "IKOsHqdozarY"
   },
   "source": [
    "## Plot the figure"
   ]
  },
  {
   "cell_type": "code",
   "execution_count": null,
   "metadata": {
    "id": "utpMPUH2zarY",
    "outputId": "5498bfa1-9e4c-4f54-9e71-16de04506840",
    "tags": []
   },
   "outputs": [
    {
     "data": {
      "text/plain": [
       "Text(0, 0.5, 'mean Accuracy')"
      ]
     },
     "execution_count": 49,
     "metadata": {},
     "output_type": "execute_result"
    },
    {
     "data": {
      "image/png": "[encoded data removed]",
      "text/plain": [
       "<Figure size 720x432 with 1 Axes>"
      ]
     },
     "metadata": {
      "needs_background": "light"
     },
     "output_type": "display_data"
    }
   ],
   "source": [
    "plt.figure(figsize=(10,6))\n",
    "plt.plot(N,accuracy,color='blue', linestyle='dashed', marker='o',\n",
    "         markerfacecolor='red', markersize=10)\n",
    "plt.title('Accuracy vs. N')\n",
    "plt.xlabel('N samples in training set for each class')\n",
    "plt.ylabel('mean Accuracy')"
   ]
  },
  {
   "cell_type": "markdown",
   "metadata": {},
   "source": [
    "### Choose N=6000"
   ]
  },
  {
   "cell_type": "code",
   "execution_count": 8,
   "metadata": {},
   "outputs": [
    {
     "name": "stdout",
     "output_type": "stream",
     "text": [
      "              precision    recall  f1-score   support\n",
      "\n",
      "           0       0.76      0.86      0.81      1000\n",
      "           1       0.99      0.95      0.97      1000\n",
      "           2       0.75      0.79      0.77      1000\n",
      "           3       0.91      0.88      0.89      1000\n",
      "           4       0.79      0.80      0.79      1000\n",
      "           5       0.99      0.78      0.87      1000\n",
      "           6       0.64      0.57      0.60      1000\n",
      "           7       0.85      0.94      0.89      1000\n",
      "           8       0.97      0.94      0.95      1000\n",
      "           9       0.87      0.96      0.91      1000\n",
      "\n",
      "    accuracy                           0.85     10000\n",
      "   macro avg       0.85      0.85      0.85     10000\n",
      "weighted avg       0.85      0.85      0.85     10000\n",
      "\n",
      "N=6000, mean accuracy= 0.8473\n",
      "CPU times: user 2min 44s, sys: 19.3 s, total: 3min 3s\n",
      "Wall time: 39.6 s\n"
     ]
    }
   ],
   "source": [
    "%%time\n",
    "i=6\n",
    "y_train = train[i]['label']\n",
    "X_train = train[i].loc[:, train[i].columns != 'label']\n",
    "\n",
    "y_test = test[i]['label']\n",
    "X_test = test[i].loc[:, test[i].columns != 'label']\n",
    "\n",
    "knn = KNeighborsClassifier(n_neighbors=20)\n",
    "knn.fit(X_train,y_train)\n",
    "pred=knn.predict(X_test)\n",
    "print(classification_report(y_test,pred))\n",
    "print('N=6000, mean accuracy=',knn.score(X_test,y_test))"
   ]
  },
  {
   "cell_type": "markdown",
   "metadata": {
    "id": "vaEpNjBRzarZ",
    "tags": []
   },
   "source": [
    "# **Part 3**"
   ]
  },
  {
   "cell_type": "code",
   "execution_count": null,
   "metadata": {
    "id": "kmYITkXPzarZ"
   },
   "outputs": [],
   "source": [
    "X=df.iloc[:,1:]\n",
    "y=df.iloc[:,0]"
   ]
  },
  {
   "cell_type": "markdown",
   "metadata": {
    "id": "pgibO5qezarZ"
   },
   "source": [
    "### Use Kfold to select training set"
   ]
  },
  {
   "cell_type": "code",
   "execution_count": null,
   "metadata": {
    "id": "NdOtU5OwzarZ",
    "outputId": "62d0a18d-d2eb-48d3-ca46-71857c736354"
   },
   "outputs": [
    {
     "name": "stdout",
     "output_type": "stream",
     "text": [
      "TRAIN: [10000 10001 10002 ... 69997 69998 69999] TEST: [   0    1    2 ... 9997 9998 9999]\n",
      "mean accuracy= 0.8513\n",
      "TRAIN: [    0     1     2 ... 69997 69998 69999] TEST: [10000 10001 10002 ... 19997 19998 19999]\n",
      "mean accuracy= 0.8457\n",
      "TRAIN: [    0     1     2 ... 69997 69998 69999] TEST: [20000 20001 20002 ... 29997 29998 29999]\n",
      "mean accuracy= 0.8473\n",
      "TRAIN: [    0     1     2 ... 69997 69998 69999] TEST: [30000 30001 30002 ... 39997 39998 39999]\n",
      "mean accuracy= 0.8477\n",
      "TRAIN: [    0     1     2 ... 69997 69998 69999] TEST: [40000 40001 40002 ... 49997 49998 49999]\n",
      "mean accuracy= 0.8429\n",
      "TRAIN: [    0     1     2 ... 69997 69998 69999] TEST: [50000 50001 50002 ... 59997 59998 59999]\n",
      "mean accuracy= 0.8472\n",
      "TRAIN: [    0     1     2 ... 59997 59998 59999] TEST: [60000 60001 60002 ... 69997 69998 69999]\n",
      "mean accuracy= 0.8474\n",
      "CPU times: user 11min 23s, sys: 1min 26s, total: 12min 49s\n",
      "Wall time: 2min 42s\n"
     ]
    }
   ],
   "source": [
    "%%time\n",
    "kf = KFold(n_splits=7)\n",
    "kf.get_n_splits(X)\n",
    "\n",
    "for train_index, test_index in kf.split(X):\n",
    "    print(\"TRAIN:\", train_index, \"TEST:\", test_index)\n",
    "    X_train, X_test = X.iloc[train_index], X.iloc[test_index]\n",
    "    y_train, y_test = y.iloc[train_index], y.iloc[test_index]\n",
    "    knn = KNeighborsClassifier(n_neighbors=20)\n",
    "    knn.fit(X_train,y_train)\n",
    "    print('mean accuracy=', knn.score(X_test,y_test))\n",
    "#From the following output, the first fold got the best accuracy"
   ]
  },
  {
   "cell_type": "markdown",
   "metadata": {
    "id": "FcraaJwxzara"
   },
   "source": [
    "### select the index of first fold as training set"
   ]
  },
  {
   "cell_type": "code",
   "execution_count": null,
   "metadata": {
    "id": "IX8EG-0Szara",
    "outputId": "1eccef80-b161-4349-fd2c-9ebc353cf716"
   },
   "outputs": [
    {
     "name": "stdout",
     "output_type": "stream",
     "text": [
      "              precision    recall  f1-score   support\n",
      "\n",
      "           0       0.77      0.89      0.83      1009\n",
      "           1       0.99      0.96      0.97       972\n",
      "           2       0.73      0.78      0.76       951\n",
      "           3       0.91      0.86      0.88      1012\n",
      "           4       0.77      0.80      0.79       979\n",
      "           5       1.00      0.80      0.89      1008\n",
      "           6       0.65      0.56      0.60      1022\n",
      "           7       0.86      0.96      0.91      1037\n",
      "           8       0.97      0.94      0.96       974\n",
      "           9       0.89      0.96      0.93      1036\n",
      "\n",
      "    accuracy                           0.85     10000\n",
      "   macro avg       0.85      0.85      0.85     10000\n",
      "weighted avg       0.85      0.85      0.85     10000\n",
      "\n",
      "mean accuracy= 0.8513\n",
      "CPU times: user 2min 47s, sys: 21.6 s, total: 3min 9s\n",
      "Wall time: 40.9 s\n"
     ]
    }
   ],
   "source": [
    "%%time\n",
    "X_train, X_test = X.iloc[10000:], X.iloc[:10000]\n",
    "y_train, y_test = y.iloc[10000:], y.iloc[:10000]\n",
    "knn = KNeighborsClassifier(n_neighbors=20)\n",
    "knn.fit(X_train,y_train)\n",
    "pred=knn.predict(X_test)\n",
    "print(classification_report(y_test,pred))\n",
    "print('mean accuracy=', knn.score(X_test,y_test))"
   ]
  }
 ],
 "metadata": {
  "colab": {
   "name": "Project1.ipynb",
   "provenance": []
  },
  "kernelspec": {
   "display_name": "Python 3",
   "language": "python",
   "name": "python3"
  },
  "language_info": {
   "codemirror_mode": {
    "name": "ipython",
    "version": 3
   },
   "file_extension": ".py",
   "mimetype": "text/x-python",
   "name": "python",
   "nbconvert_exporter": "python",
   "pygments_lexer": "ipython3",
   "version": "3.8.8"
  }
 },
 "nbformat": 4,
 "nbformat_minor": 4
}
